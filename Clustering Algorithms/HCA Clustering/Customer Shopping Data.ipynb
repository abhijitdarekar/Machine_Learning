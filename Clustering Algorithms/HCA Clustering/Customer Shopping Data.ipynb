{
 "cells": [
  {
   "cell_type": "markdown",
   "id": "fbcdc00b",
   "metadata": {},
   "source": [
    "Imagine a scenario in which you are part of a data science team that interfaces with the marketing department. Marketing has been gathering customer shopping data for a while, and they want to understand, based on the collected data, if there are similarities between customers. Those similarities divide customers into groups and having customer groups helps in the targeting of campaigns, promotions, conversions, and building better customer relationships."
   ]
  },
  {
   "cell_type": "markdown",
   "id": "294bfea1",
   "metadata": {},
   "source": [
    "#### Is there a way you could help determine which customers are similar? How many of them belong to the same group? And how many different groups there are?"
   ]
  },
  {
   "cell_type": "code",
   "execution_count": 131,
   "id": "b0dd5f2a",
   "metadata": {},
   "outputs": [],
   "source": [
    "import pandas as pd\n",
    "import matplotlib.pyplot as plt\n",
    "import seaborn as sns\n",
    "from sklearn.decomposition import PCA"
   ]
  },
  {
   "cell_type": "code",
   "execution_count": 70,
   "id": "543f363a",
   "metadata": {},
   "outputs": [
    {
     "data": {
      "text/html": [
       "<div>\n",
       "<style scoped>\n",
       "    .dataframe tbody tr th:only-of-type {\n",
       "        vertical-align: middle;\n",
       "    }\n",
       "\n",
       "    .dataframe tbody tr th {\n",
       "        vertical-align: top;\n",
       "    }\n",
       "\n",
       "    .dataframe thead th {\n",
       "        text-align: right;\n",
       "    }\n",
       "</style>\n",
       "<table border=\"1\" class=\"dataframe\">\n",
       "  <thead>\n",
       "    <tr style=\"text-align: right;\">\n",
       "      <th></th>\n",
       "      <th>CustomerID</th>\n",
       "      <th>Genre</th>\n",
       "      <th>Age</th>\n",
       "      <th>Annual Income (k$)</th>\n",
       "      <th>Spending Score (1-100)</th>\n",
       "    </tr>\n",
       "  </thead>\n",
       "  <tbody>\n",
       "    <tr>\n",
       "      <th>0</th>\n",
       "      <td>1</td>\n",
       "      <td>Male</td>\n",
       "      <td>19</td>\n",
       "      <td>15</td>\n",
       "      <td>39</td>\n",
       "    </tr>\n",
       "    <tr>\n",
       "      <th>1</th>\n",
       "      <td>2</td>\n",
       "      <td>Male</td>\n",
       "      <td>21</td>\n",
       "      <td>15</td>\n",
       "      <td>81</td>\n",
       "    </tr>\n",
       "    <tr>\n",
       "      <th>2</th>\n",
       "      <td>3</td>\n",
       "      <td>Female</td>\n",
       "      <td>20</td>\n",
       "      <td>16</td>\n",
       "      <td>6</td>\n",
       "    </tr>\n",
       "    <tr>\n",
       "      <th>3</th>\n",
       "      <td>4</td>\n",
       "      <td>Female</td>\n",
       "      <td>23</td>\n",
       "      <td>16</td>\n",
       "      <td>77</td>\n",
       "    </tr>\n",
       "    <tr>\n",
       "      <th>4</th>\n",
       "      <td>5</td>\n",
       "      <td>Female</td>\n",
       "      <td>31</td>\n",
       "      <td>17</td>\n",
       "      <td>40</td>\n",
       "    </tr>\n",
       "  </tbody>\n",
       "</table>\n",
       "</div>"
      ],
      "text/plain": [
       "   CustomerID   Genre  Age  Annual Income (k$)  Spending Score (1-100)\n",
       "0           1    Male   19                  15                      39\n",
       "1           2    Male   21                  15                      81\n",
       "2           3  Female   20                  16                       6\n",
       "3           4  Female   23                  16                      77\n",
       "4           5  Female   31                  17                      40"
      ]
     },
     "execution_count": 70,
     "metadata": {},
     "output_type": "execute_result"
    }
   ],
   "source": [
    "df=pd.read_csv('shopping-data.csv')\n",
    "df.head()"
   ]
  },
  {
   "cell_type": "code",
   "execution_count": 71,
   "id": "5b5d2dba",
   "metadata": {},
   "outputs": [
    {
     "data": {
      "text/plain": [
       "(200, 5)"
      ]
     },
     "execution_count": 71,
     "metadata": {},
     "output_type": "execute_result"
    }
   ],
   "source": [
    "df.shape"
   ]
  },
  {
   "cell_type": "code",
   "execution_count": 72,
   "id": "0b1efbcd",
   "metadata": {},
   "outputs": [
    {
     "data": {
      "text/plain": [
       "Index(['CustomerID', 'Genre', 'Age', 'Annual Income (k$)',\n",
       "       'Spending Score (1-100)'],\n",
       "      dtype='object')"
      ]
     },
     "execution_count": 72,
     "metadata": {},
     "output_type": "execute_result"
    }
   ],
   "source": [
    "df.columns"
   ]
  },
  {
   "cell_type": "code",
   "execution_count": 73,
   "id": "883b9dab",
   "metadata": {},
   "outputs": [
    {
     "data": {
      "text/plain": [
       "<AxesSubplot:>"
      ]
     },
     "execution_count": 73,
     "metadata": {},
     "output_type": "execute_result"
    },
    {
     "data": {
      "image/png": "[encoded data removed]",
      "text/plain": [
       "<Figure size 432x288 with 1 Axes>"
      ]
     },
     "metadata": {
      "needs_background": "light"
     },
     "output_type": "display_data"
    }
   ],
   "source": [
    "df['Spending Score (1-100)'].hist()"
   ]
  },
  {
   "cell_type": "raw",
   "id": "46e0cb02",
   "metadata": {},
   "source": [
    "By Looking the histogram we can say;\n",
    "1. 35 customers have scored between 40 adn 60\n",
    "2. Less then 25 Customers have SCores between 70 and 80\n",
    "\n",
    "By this we can say most of our customer are balances spenders followd by high spenders"
   ]
  },
  {
   "cell_type": "code",
   "execution_count": 74,
   "id": "9575c747",
   "metadata": {},
   "outputs": [
    {
     "data": {
      "text/html": [
       "<div>\n",
       "<style scoped>\n",
       "    .dataframe tbody tr th:only-of-type {\n",
       "        vertical-align: middle;\n",
       "    }\n",
       "\n",
       "    .dataframe tbody tr th {\n",
       "        vertical-align: top;\n",
       "    }\n",
       "\n",
       "    .dataframe thead th {\n",
       "        text-align: right;\n",
       "    }\n",
       "</style>\n",
       "<table border=\"1\" class=\"dataframe\">\n",
       "  <thead>\n",
       "    <tr style=\"text-align: right;\">\n",
       "      <th></th>\n",
       "      <th>count</th>\n",
       "      <th>mean</th>\n",
       "      <th>std</th>\n",
       "      <th>min</th>\n",
       "      <th>25%</th>\n",
       "      <th>50%</th>\n",
       "      <th>75%</th>\n",
       "      <th>max</th>\n",
       "    </tr>\n",
       "  </thead>\n",
       "  <tbody>\n",
       "    <tr>\n",
       "      <th>CustomerID</th>\n",
       "      <td>200.0</td>\n",
       "      <td>100.50</td>\n",
       "      <td>57.879185</td>\n",
       "      <td>1.0</td>\n",
       "      <td>50.75</td>\n",
       "      <td>100.5</td>\n",
       "      <td>150.25</td>\n",
       "      <td>200.0</td>\n",
       "    </tr>\n",
       "    <tr>\n",
       "      <th>Age</th>\n",
       "      <td>200.0</td>\n",
       "      <td>38.85</td>\n",
       "      <td>13.969007</td>\n",
       "      <td>18.0</td>\n",
       "      <td>28.75</td>\n",
       "      <td>36.0</td>\n",
       "      <td>49.00</td>\n",
       "      <td>70.0</td>\n",
       "    </tr>\n",
       "    <tr>\n",
       "      <th>Annual Income (k$)</th>\n",
       "      <td>200.0</td>\n",
       "      <td>60.56</td>\n",
       "      <td>26.264721</td>\n",
       "      <td>15.0</td>\n",
       "      <td>41.50</td>\n",
       "      <td>61.5</td>\n",
       "      <td>78.00</td>\n",
       "      <td>137.0</td>\n",
       "    </tr>\n",
       "    <tr>\n",
       "      <th>Spending Score (1-100)</th>\n",
       "      <td>200.0</td>\n",
       "      <td>50.20</td>\n",
       "      <td>25.823522</td>\n",
       "      <td>1.0</td>\n",
       "      <td>34.75</td>\n",
       "      <td>50.0</td>\n",
       "      <td>73.00</td>\n",
       "      <td>99.0</td>\n",
       "    </tr>\n",
       "  </tbody>\n",
       "</table>\n",
       "</div>"
      ],
      "text/plain": [
       "                        count    mean        std   min    25%    50%     75%  \\\n",
       "CustomerID              200.0  100.50  57.879185   1.0  50.75  100.5  150.25   \n",
       "Age                     200.0   38.85  13.969007  18.0  28.75   36.0   49.00   \n",
       "Annual Income (k$)      200.0   60.56  26.264721  15.0  41.50   61.5   78.00   \n",
       "Spending Score (1-100)  200.0   50.20  25.823522   1.0  34.75   50.0   73.00   \n",
       "\n",
       "                          max  \n",
       "CustomerID              200.0  \n",
       "Age                      70.0  \n",
       "Annual Income (k$)      137.0  \n",
       "Spending Score (1-100)   99.0  "
      ]
     },
     "execution_count": 74,
     "metadata": {},
     "output_type": "execute_result"
    }
   ],
   "source": [
    "df.describe().transpose()"
   ]
  },
  {
   "cell_type": "markdown",
   "id": "bd7b5a6b",
   "metadata": {},
   "source": [
    "The minimum value fo spending is 1 and maximum is 99.\n",
    "As we see the data\n",
    "a. Age , mean is 38.15 while std is 13.96\n",
    "b. Annual Income : mean is 60.56 and std is 26.26\n",
    "c. Spedning score : Mean is 50.20 while std is 25.82\n",
    "\n",
    "We can say that the given dataset has high variability"
   ]
  },
  {
   "cell_type": "code",
   "execution_count": 75,
   "id": "1dfa8ffe",
   "metadata": {},
   "outputs": [
    {
     "data": {
      "text/plain": [
       "<matplotlib.lines.Line2D at 0x17757aa2e20>"
      ]
     },
     "execution_count": 75,
     "metadata": {},
     "output_type": "execute_result"
    },
    {
     "data": {
      "image/png": "[encoded data removed]",
      "text/plain": [
       "<Figure size 432x288 with 1 Axes>"
      ]
     },
     "metadata": {
      "needs_background": "light"
     },
     "output_type": "display_data"
    }
   ],
   "source": [
    "hist=plt.hist(df['Annual Income (k$)'], bins=20, color='b', edgecolor='b', alpha=0.65)\n",
    "plt.axvline(df['Annual Income (k$)'].mean(),color='k', linestyle='dashed', linewidth=1)\n",
    "plt.axvline(df['Annual Income (k$)'].std(),color='r', linestyle='dashed', linewidth=1)"
   ]
  },
  {
   "cell_type": "markdown",
   "id": "35fb4460",
   "metadata": {},
   "source": [
    "BLack dashed line : Mean of the feature 'Annual Income'\n",
    "Red Dashed Line : Standard Deviation for the feature 'Annual Income'\n",
    "\n",
    "As we see more then 20 customer have concentrated near the number 60 which is mean.\n",
    "\n",
    "The variability and the size of the data are important in clustering analysis because distance measurements of most clustering algorithms are sensitive to data magnitudes. The difference in size can change the clustering results by making one point seem closer or more distant to another than it actually is, distorting the actual grouping of data."
   ]
  },
  {
   "cell_type": "code",
   "execution_count": 76,
   "id": "5bb5ec38",
   "metadata": {},
   "outputs": [
    {
     "name": "stdout",
     "output_type": "stream",
     "text": [
      "<class 'pandas.core.frame.DataFrame'>\n",
      "RangeIndex: 200 entries, 0 to 199\n",
      "Data columns (total 5 columns):\n",
      " #   Column                  Non-Null Count  Dtype \n",
      "---  ------                  --------------  ----- \n",
      " 0   CustomerID              200 non-null    int64 \n",
      " 1   Genre                   200 non-null    object\n",
      " 2   Age                     200 non-null    int64 \n",
      " 3   Annual Income (k$)      200 non-null    int64 \n",
      " 4   Spending Score (1-100)  200 non-null    int64 \n",
      "dtypes: int64(4), object(1)\n",
      "memory usage: 7.9+ KB\n"
     ]
    }
   ],
   "source": [
    "df.info()"
   ]
  },
  {
   "cell_type": "raw",
   "id": "4b5652eb",
   "metadata": {},
   "source": [
    "We can see that there are noe null values in the data."
   ]
  },
  {
   "cell_type": "code",
   "execution_count": 77,
   "id": "11ce7084",
   "metadata": {},
   "outputs": [
    {
     "name": "stdout",
     "output_type": "stream",
     "text": [
      "<class 'pandas.core.frame.DataFrame'>\n",
      "RangeIndex: 200 entries, 0 to 199\n",
      "Data columns (total 5 columns):\n",
      " #   Column                  Non-Null Count  Dtype \n",
      "---  ------                  --------------  ----- \n",
      " 0   CustomerID              200 non-null    int64 \n",
      " 1   Genre                   200 non-null    object\n",
      " 2   Age                     200 non-null    int64 \n",
      " 3   Annual Income (k$)      200 non-null    int64 \n",
      " 4   Spending Score (1-100)  200 non-null    int64 \n",
      "dtypes: int64(4), object(1)\n",
      "memory usage: 7.9+ KB\n"
     ]
    }
   ],
   "source": [
    "#Finding the information about the data\n",
    "df.info()"
   ]
  },
  {
   "cell_type": "markdown",
   "id": "f19dbf02",
   "metadata": {},
   "source": [
    "As we see the only the Genre has dtype as object rest others are integer.\n",
    "\n",
    "Lets find out the distinct data availabe in the column 'Gender\""
   ]
  },
  {
   "cell_type": "code",
   "execution_count": 78,
   "id": "e566d8d4",
   "metadata": {},
   "outputs": [
    {
     "data": {
      "text/html": [
       "<div>\n",
       "<style scoped>\n",
       "    .dataframe tbody tr th:only-of-type {\n",
       "        vertical-align: middle;\n",
       "    }\n",
       "\n",
       "    .dataframe tbody tr th {\n",
       "        vertical-align: top;\n",
       "    }\n",
       "\n",
       "    .dataframe thead th {\n",
       "        text-align: right;\n",
       "    }\n",
       "</style>\n",
       "<table border=\"1\" class=\"dataframe\">\n",
       "  <thead>\n",
       "    <tr style=\"text-align: right;\">\n",
       "      <th></th>\n",
       "      <th>index</th>\n",
       "      <th>Genre</th>\n",
       "    </tr>\n",
       "  </thead>\n",
       "  <tbody>\n",
       "    <tr>\n",
       "      <th>0</th>\n",
       "      <td>Female</td>\n",
       "      <td>112</td>\n",
       "    </tr>\n",
       "    <tr>\n",
       "      <th>1</th>\n",
       "      <td>Male</td>\n",
       "      <td>88</td>\n",
       "    </tr>\n",
       "  </tbody>\n",
       "</table>\n",
       "</div>"
      ],
      "text/plain": [
       "    index  Genre\n",
       "0  Female    112\n",
       "1    Male     88"
      ]
     },
     "execution_count": 78,
     "metadata": {},
     "output_type": "execute_result"
    }
   ],
   "source": [
    "df['Genre'].value_counts().reset_index()"
   ]
  },
  {
   "cell_type": "code",
   "execution_count": 79,
   "id": "39a99d75",
   "metadata": {},
   "outputs": [
    {
     "data": {
      "text/html": [
       "<div>\n",
       "<style scoped>\n",
       "    .dataframe tbody tr th:only-of-type {\n",
       "        vertical-align: middle;\n",
       "    }\n",
       "\n",
       "    .dataframe tbody tr th {\n",
       "        vertical-align: top;\n",
       "    }\n",
       "\n",
       "    .dataframe thead th {\n",
       "        text-align: right;\n",
       "    }\n",
       "</style>\n",
       "<table border=\"1\" class=\"dataframe\">\n",
       "  <thead>\n",
       "    <tr style=\"text-align: right;\">\n",
       "      <th></th>\n",
       "      <th>index</th>\n",
       "      <th>Genre</th>\n",
       "    </tr>\n",
       "  </thead>\n",
       "  <tbody>\n",
       "    <tr>\n",
       "      <th>0</th>\n",
       "      <td>Female</td>\n",
       "      <td>0.56</td>\n",
       "    </tr>\n",
       "    <tr>\n",
       "      <th>1</th>\n",
       "      <td>Male</td>\n",
       "      <td>0.44</td>\n",
       "    </tr>\n",
       "  </tbody>\n",
       "</table>\n",
       "</div>"
      ],
      "text/plain": [
       "    index  Genre\n",
       "0  Female   0.56\n",
       "1    Male   0.44"
      ]
     },
     "execution_count": 79,
     "metadata": {},
     "output_type": "execute_result"
    }
   ],
   "source": [
    "#Finding the percentage of shares by gender\n",
    "df.Genre.value_counts(normalize=True).reset_index()"
   ]
  },
  {
   "cell_type": "code",
   "execution_count": 80,
   "id": "0780fa42",
   "metadata": {},
   "outputs": [
    {
     "data": {
      "text/plain": [
       "<BarContainer object of 200 artists>"
      ]
     },
     "execution_count": 80,
     "metadata": {},
     "output_type": "execute_result"
    },
    {
     "data": {
      "image/png": "[encoded data removed]",
      "text/plain": [
       "<Figure size 432x288 with 1 Axes>"
      ]
     },
     "metadata": {
      "needs_background": "light"
     },
     "output_type": "display_data"
    }
   ],
   "source": [
    "plt.bar(df['Age'],df['Spending Score (1-100)'])"
   ]
  },
  {
   "cell_type": "markdown",
   "id": "883ed10c",
   "metadata": {},
   "source": [
    "Our dataset contains 56% women and 44 percent men."
   ]
  },
  {
   "cell_type": "markdown",
   "id": "fc2390e6",
   "metadata": {},
   "source": [
    "#  Encoding Variables and Feature Engineering "
   ]
  },
  {
   "cell_type": "markdown",
   "id": "9b08de54",
   "metadata": {},
   "source": [
    "Let's strtrt by divinding the age into groups of 10, 20-30, 40-50 etc.\n",
    "To do this we cab use Pandas cut() method to divide to bin"
   ]
  },
  {
   "cell_type": "code",
   "execution_count": 81,
   "id": "10fa2174",
   "metadata": {},
   "outputs": [],
   "source": [
    "intervals = [15, 20, 30, 40, 50, 60, 70]\n",
    "data=df.Age\n",
    "df['Age Groups']=pd.cut(x=data,bins=intervals)\n"
   ]
  },
  {
   "cell_type": "code",
   "execution_count": 82,
   "id": "3dd7481f",
   "metadata": {},
   "outputs": [
    {
     "data": {
      "text/html": [
       "<div>\n",
       "<style scoped>\n",
       "    .dataframe tbody tr th:only-of-type {\n",
       "        vertical-align: middle;\n",
       "    }\n",
       "\n",
       "    .dataframe tbody tr th {\n",
       "        vertical-align: top;\n",
       "    }\n",
       "\n",
       "    .dataframe thead th {\n",
       "        text-align: right;\n",
       "    }\n",
       "</style>\n",
       "<table border=\"1\" class=\"dataframe\">\n",
       "  <thead>\n",
       "    <tr style=\"text-align: right;\">\n",
       "      <th></th>\n",
       "      <th>index</th>\n",
       "      <th>Age Groups</th>\n",
       "    </tr>\n",
       "  </thead>\n",
       "  <tbody>\n",
       "    <tr>\n",
       "      <th>0</th>\n",
       "      <td>(30, 40]</td>\n",
       "      <td>60</td>\n",
       "    </tr>\n",
       "    <tr>\n",
       "      <th>1</th>\n",
       "      <td>(20, 30]</td>\n",
       "      <td>45</td>\n",
       "    </tr>\n",
       "    <tr>\n",
       "      <th>2</th>\n",
       "      <td>(40, 50]</td>\n",
       "      <td>38</td>\n",
       "    </tr>\n",
       "    <tr>\n",
       "      <th>3</th>\n",
       "      <td>(50, 60]</td>\n",
       "      <td>23</td>\n",
       "    </tr>\n",
       "    <tr>\n",
       "      <th>4</th>\n",
       "      <td>(15, 20]</td>\n",
       "      <td>17</td>\n",
       "    </tr>\n",
       "    <tr>\n",
       "      <th>5</th>\n",
       "      <td>(60, 70]</td>\n",
       "      <td>17</td>\n",
       "    </tr>\n",
       "  </tbody>\n",
       "</table>\n",
       "</div>"
      ],
      "text/plain": [
       "      index  Age Groups\n",
       "0  (30, 40]          60\n",
       "1  (20, 30]          45\n",
       "2  (40, 50]          38\n",
       "3  (50, 60]          23\n",
       "4  (15, 20]          17\n",
       "5  (60, 70]          17"
      ]
     },
     "execution_count": 82,
     "metadata": {},
     "output_type": "execute_result"
    }
   ],
   "source": [
    "df['Age Groups'].value_counts().reset_index()"
   ]
  },
  {
   "cell_type": "code",
   "execution_count": 83,
   "id": "3653da2b",
   "metadata": {},
   "outputs": [
    {
     "data": {
      "text/html": [
       "<div>\n",
       "<style scoped>\n",
       "    .dataframe tbody tr th:only-of-type {\n",
       "        vertical-align: middle;\n",
       "    }\n",
       "\n",
       "    .dataframe tbody tr th {\n",
       "        vertical-align: top;\n",
       "    }\n",
       "\n",
       "    .dataframe thead th {\n",
       "        text-align: right;\n",
       "    }\n",
       "</style>\n",
       "<table border=\"1\" class=\"dataframe\">\n",
       "  <thead>\n",
       "    <tr style=\"text-align: right;\">\n",
       "      <th></th>\n",
       "      <th>index</th>\n",
       "      <th>Age Groups</th>\n",
       "    </tr>\n",
       "  </thead>\n",
       "  <tbody>\n",
       "    <tr>\n",
       "      <th>0</th>\n",
       "      <td>(30, 40]</td>\n",
       "      <td>60</td>\n",
       "    </tr>\n",
       "    <tr>\n",
       "      <th>1</th>\n",
       "      <td>(20, 30]</td>\n",
       "      <td>45</td>\n",
       "    </tr>\n",
       "    <tr>\n",
       "      <th>2</th>\n",
       "      <td>(40, 50]</td>\n",
       "      <td>38</td>\n",
       "    </tr>\n",
       "    <tr>\n",
       "      <th>3</th>\n",
       "      <td>(50, 60]</td>\n",
       "      <td>23</td>\n",
       "    </tr>\n",
       "    <tr>\n",
       "      <th>4</th>\n",
       "      <td>(15, 20]</td>\n",
       "      <td>17</td>\n",
       "    </tr>\n",
       "    <tr>\n",
       "      <th>5</th>\n",
       "      <td>(60, 70]</td>\n",
       "      <td>17</td>\n",
       "    </tr>\n",
       "  </tbody>\n",
       "</table>\n",
       "</div>"
      ],
      "text/plain": [
       "      index  Age Groups\n",
       "0  (30, 40]          60\n",
       "1  (20, 30]          45\n",
       "2  (40, 50]          38\n",
       "3  (50, 60]          23\n",
       "4  (15, 20]          17\n",
       "5  (60, 70]          17"
      ]
     },
     "execution_count": 83,
     "metadata": {},
     "output_type": "execute_result"
    }
   ],
   "source": [
    "# FInding the unique catogires in the columns 'Age Group'\n",
    "df['Age Groups'].value_counts().reset_index()"
   ]
  },
  {
   "cell_type": "markdown",
   "id": "c8e91d4f",
   "metadata": {},
   "source": [
    "At this momnet we have teo catogerical variables AGE and Genre, whcihwe need to transform into numbers."
   ]
  },
  {
   "cell_type": "code",
   "execution_count": 84,
   "id": "f52a57a8",
   "metadata": {},
   "outputs": [
    {
     "data": {
      "text/html": [
       "<div>\n",
       "<style scoped>\n",
       "    .dataframe tbody tr th:only-of-type {\n",
       "        vertical-align: middle;\n",
       "    }\n",
       "\n",
       "    .dataframe tbody tr th {\n",
       "        vertical-align: top;\n",
       "    }\n",
       "\n",
       "    .dataframe thead th {\n",
       "        text-align: right;\n",
       "    }\n",
       "</style>\n",
       "<table border=\"1\" class=\"dataframe\">\n",
       "  <thead>\n",
       "    <tr style=\"text-align: right;\">\n",
       "      <th></th>\n",
       "      <th>CustomerID</th>\n",
       "      <th>Age</th>\n",
       "      <th>Annual Income (k$)</th>\n",
       "      <th>Spending Score (1-100)</th>\n",
       "      <th>Genre_Female</th>\n",
       "      <th>Genre_Male</th>\n",
       "      <th>Age Groups_(15, 20]</th>\n",
       "      <th>Age Groups_(20, 30]</th>\n",
       "      <th>Age Groups_(30, 40]</th>\n",
       "      <th>Age Groups_(40, 50]</th>\n",
       "      <th>Age Groups_(50, 60]</th>\n",
       "      <th>Age Groups_(60, 70]</th>\n",
       "    </tr>\n",
       "  </thead>\n",
       "  <tbody>\n",
       "    <tr>\n",
       "      <th>0</th>\n",
       "      <td>1</td>\n",
       "      <td>19</td>\n",
       "      <td>15</td>\n",
       "      <td>39</td>\n",
       "      <td>0</td>\n",
       "      <td>1</td>\n",
       "      <td>1</td>\n",
       "      <td>0</td>\n",
       "      <td>0</td>\n",
       "      <td>0</td>\n",
       "      <td>0</td>\n",
       "      <td>0</td>\n",
       "    </tr>\n",
       "    <tr>\n",
       "      <th>1</th>\n",
       "      <td>2</td>\n",
       "      <td>21</td>\n",
       "      <td>15</td>\n",
       "      <td>81</td>\n",
       "      <td>0</td>\n",
       "      <td>1</td>\n",
       "      <td>0</td>\n",
       "      <td>1</td>\n",
       "      <td>0</td>\n",
       "      <td>0</td>\n",
       "      <td>0</td>\n",
       "      <td>0</td>\n",
       "    </tr>\n",
       "    <tr>\n",
       "      <th>2</th>\n",
       "      <td>3</td>\n",
       "      <td>20</td>\n",
       "      <td>16</td>\n",
       "      <td>6</td>\n",
       "      <td>1</td>\n",
       "      <td>0</td>\n",
       "      <td>1</td>\n",
       "      <td>0</td>\n",
       "      <td>0</td>\n",
       "      <td>0</td>\n",
       "      <td>0</td>\n",
       "      <td>0</td>\n",
       "    </tr>\n",
       "    <tr>\n",
       "      <th>3</th>\n",
       "      <td>4</td>\n",
       "      <td>23</td>\n",
       "      <td>16</td>\n",
       "      <td>77</td>\n",
       "      <td>1</td>\n",
       "      <td>0</td>\n",
       "      <td>0</td>\n",
       "      <td>1</td>\n",
       "      <td>0</td>\n",
       "      <td>0</td>\n",
       "      <td>0</td>\n",
       "      <td>0</td>\n",
       "    </tr>\n",
       "    <tr>\n",
       "      <th>4</th>\n",
       "      <td>5</td>\n",
       "      <td>31</td>\n",
       "      <td>17</td>\n",
       "      <td>40</td>\n",
       "      <td>1</td>\n",
       "      <td>0</td>\n",
       "      <td>0</td>\n",
       "      <td>0</td>\n",
       "      <td>1</td>\n",
       "      <td>0</td>\n",
       "      <td>0</td>\n",
       "      <td>0</td>\n",
       "    </tr>\n",
       "    <tr>\n",
       "      <th>...</th>\n",
       "      <td>...</td>\n",
       "      <td>...</td>\n",
       "      <td>...</td>\n",
       "      <td>...</td>\n",
       "      <td>...</td>\n",
       "      <td>...</td>\n",
       "      <td>...</td>\n",
       "      <td>...</td>\n",
       "      <td>...</td>\n",
       "      <td>...</td>\n",
       "      <td>...</td>\n",
       "      <td>...</td>\n",
       "    </tr>\n",
       "    <tr>\n",
       "      <th>195</th>\n",
       "      <td>196</td>\n",
       "      <td>35</td>\n",
       "      <td>120</td>\n",
       "      <td>79</td>\n",
       "      <td>1</td>\n",
       "      <td>0</td>\n",
       "      <td>0</td>\n",
       "      <td>0</td>\n",
       "      <td>1</td>\n",
       "      <td>0</td>\n",
       "      <td>0</td>\n",
       "      <td>0</td>\n",
       "    </tr>\n",
       "    <tr>\n",
       "      <th>196</th>\n",
       "      <td>197</td>\n",
       "      <td>45</td>\n",
       "      <td>126</td>\n",
       "      <td>28</td>\n",
       "      <td>1</td>\n",
       "      <td>0</td>\n",
       "      <td>0</td>\n",
       "      <td>0</td>\n",
       "      <td>0</td>\n",
       "      <td>1</td>\n",
       "      <td>0</td>\n",
       "      <td>0</td>\n",
       "    </tr>\n",
       "    <tr>\n",
       "      <th>197</th>\n",
       "      <td>198</td>\n",
       "      <td>32</td>\n",
       "      <td>126</td>\n",
       "      <td>74</td>\n",
       "      <td>0</td>\n",
       "      <td>1</td>\n",
       "      <td>0</td>\n",
       "      <td>0</td>\n",
       "      <td>1</td>\n",
       "      <td>0</td>\n",
       "      <td>0</td>\n",
       "      <td>0</td>\n",
       "    </tr>\n",
       "    <tr>\n",
       "      <th>198</th>\n",
       "      <td>199</td>\n",
       "      <td>32</td>\n",
       "      <td>137</td>\n",
       "      <td>18</td>\n",
       "      <td>0</td>\n",
       "      <td>1</td>\n",
       "      <td>0</td>\n",
       "      <td>0</td>\n",
       "      <td>1</td>\n",
       "      <td>0</td>\n",
       "      <td>0</td>\n",
       "      <td>0</td>\n",
       "    </tr>\n",
       "    <tr>\n",
       "      <th>199</th>\n",
       "      <td>200</td>\n",
       "      <td>30</td>\n",
       "      <td>137</td>\n",
       "      <td>83</td>\n",
       "      <td>0</td>\n",
       "      <td>1</td>\n",
       "      <td>0</td>\n",
       "      <td>1</td>\n",
       "      <td>0</td>\n",
       "      <td>0</td>\n",
       "      <td>0</td>\n",
       "      <td>0</td>\n",
       "    </tr>\n",
       "  </tbody>\n",
       "</table>\n",
       "<p>200 rows × 12 columns</p>\n",
       "</div>"
      ],
      "text/plain": [
       "     CustomerID  Age  Annual Income (k$)  Spending Score (1-100)  \\\n",
       "0             1   19                  15                      39   \n",
       "1             2   21                  15                      81   \n",
       "2             3   20                  16                       6   \n",
       "3             4   23                  16                      77   \n",
       "4             5   31                  17                      40   \n",
       "..          ...  ...                 ...                     ...   \n",
       "195         196   35                 120                      79   \n",
       "196         197   45                 126                      28   \n",
       "197         198   32                 126                      74   \n",
       "198         199   32                 137                      18   \n",
       "199         200   30                 137                      83   \n",
       "\n",
       "     Genre_Female  Genre_Male  Age Groups_(15, 20]  Age Groups_(20, 30]  \\\n",
       "0               0           1                    1                    0   \n",
       "1               0           1                    0                    1   \n",
       "2               1           0                    1                    0   \n",
       "3               1           0                    0                    1   \n",
       "4               1           0                    0                    0   \n",
       "..            ...         ...                  ...                  ...   \n",
       "195             1           0                    0                    0   \n",
       "196             1           0                    0                    0   \n",
       "197             0           1                    0                    0   \n",
       "198             0           1                    0                    0   \n",
       "199             0           1                    0                    1   \n",
       "\n",
       "     Age Groups_(30, 40]  Age Groups_(40, 50]  Age Groups_(50, 60]  \\\n",
       "0                      0                    0                    0   \n",
       "1                      0                    0                    0   \n",
       "2                      0                    0                    0   \n",
       "3                      0                    0                    0   \n",
       "4                      1                    0                    0   \n",
       "..                   ...                  ...                  ...   \n",
       "195                    1                    0                    0   \n",
       "196                    0                    1                    0   \n",
       "197                    1                    0                    0   \n",
       "198                    1                    0                    0   \n",
       "199                    0                    0                    0   \n",
       "\n",
       "     Age Groups_(60, 70]  \n",
       "0                      0  \n",
       "1                      0  \n",
       "2                      0  \n",
       "3                      0  \n",
       "4                      0  \n",
       "..                   ...  \n",
       "195                    0  \n",
       "196                    0  \n",
       "197                    0  \n",
       "198                    0  \n",
       "199                    0  \n",
       "\n",
       "[200 rows x 12 columns]"
      ]
     },
     "execution_count": 84,
     "metadata": {},
     "output_type": "execute_result"
    }
   ],
   "source": [
    "df_OH=pd.get_dummies(df)\n",
    "df_OH"
   ]
  },
  {
   "cell_type": "markdown",
   "id": "676e3d66",
   "metadata": {},
   "source": [
    "As we see here the columsn Genre is tranformed into Genre_Male and Genre_Female as well column 'Age Groups' in transformed to 6 other columns.\n"
   ]
  },
  {
   "cell_type": "markdown",
   "id": "639f922e",
   "metadata": {},
   "source": [
    "## Dimensionality Reduction & Plotting"
   ]
  },
  {
   "cell_type": "markdown",
   "id": "58ddac37",
   "metadata": {},
   "source": [
    "Before proceeding ahead, we have a dummy column 'Customer ID.\n",
    "We will drop the Customer_Id."
   ]
  },
  {
   "cell_type": "code",
   "execution_count": 85,
   "id": "d0e8cd6d",
   "metadata": {},
   "outputs": [],
   "source": [
    "#df=df.dro('CustomerID',axis=1,inplace=True)\n",
    "df=df.drop('CustomerID',axis=1)"
   ]
  },
  {
   "cell_type": "code",
   "execution_count": 86,
   "id": "e4e32387",
   "metadata": {},
   "outputs": [
    {
     "data": {
      "text/html": [
       "<div>\n",
       "<style scoped>\n",
       "    .dataframe tbody tr th:only-of-type {\n",
       "        vertical-align: middle;\n",
       "    }\n",
       "\n",
       "    .dataframe tbody tr th {\n",
       "        vertical-align: top;\n",
       "    }\n",
       "\n",
       "    .dataframe thead th {\n",
       "        text-align: right;\n",
       "    }\n",
       "</style>\n",
       "<table border=\"1\" class=\"dataframe\">\n",
       "  <thead>\n",
       "    <tr style=\"text-align: right;\">\n",
       "      <th></th>\n",
       "      <th>Genre</th>\n",
       "      <th>Age</th>\n",
       "      <th>Annual Income (k$)</th>\n",
       "      <th>Spending Score (1-100)</th>\n",
       "      <th>Age Groups</th>\n",
       "    </tr>\n",
       "  </thead>\n",
       "  <tbody>\n",
       "    <tr>\n",
       "      <th>0</th>\n",
       "      <td>Male</td>\n",
       "      <td>19</td>\n",
       "      <td>15</td>\n",
       "      <td>39</td>\n",
       "      <td>(15, 20]</td>\n",
       "    </tr>\n",
       "    <tr>\n",
       "      <th>1</th>\n",
       "      <td>Male</td>\n",
       "      <td>21</td>\n",
       "      <td>15</td>\n",
       "      <td>81</td>\n",
       "      <td>(20, 30]</td>\n",
       "    </tr>\n",
       "    <tr>\n",
       "      <th>2</th>\n",
       "      <td>Female</td>\n",
       "      <td>20</td>\n",
       "      <td>16</td>\n",
       "      <td>6</td>\n",
       "      <td>(15, 20]</td>\n",
       "    </tr>\n",
       "    <tr>\n",
       "      <th>3</th>\n",
       "      <td>Female</td>\n",
       "      <td>23</td>\n",
       "      <td>16</td>\n",
       "      <td>77</td>\n",
       "      <td>(20, 30]</td>\n",
       "    </tr>\n",
       "    <tr>\n",
       "      <th>4</th>\n",
       "      <td>Female</td>\n",
       "      <td>31</td>\n",
       "      <td>17</td>\n",
       "      <td>40</td>\n",
       "      <td>(30, 40]</td>\n",
       "    </tr>\n",
       "  </tbody>\n",
       "</table>\n",
       "</div>"
      ],
      "text/plain": [
       "    Genre  Age  Annual Income (k$)  Spending Score (1-100) Age Groups\n",
       "0    Male   19                  15                      39   (15, 20]\n",
       "1    Male   21                  15                      81   (20, 30]\n",
       "2  Female   20                  16                       6   (15, 20]\n",
       "3  Female   23                  16                      77   (20, 30]\n",
       "4  Female   31                  17                      40   (30, 40]"
      ]
     },
     "execution_count": 86,
     "metadata": {},
     "output_type": "execute_result"
    }
   ],
   "source": [
    "df.head()"
   ]
  },
  {
   "cell_type": "markdown",
   "id": "ad2a3029",
   "metadata": {},
   "source": [
    "Since plotting 10 dimensions are bit impossible , we will go with Seaborn Pairplot graph."
   ]
  },
  {
   "cell_type": "code",
   "execution_count": 87,
   "id": "ea1397ec",
   "metadata": {},
   "outputs": [
    {
     "data": {
      "text/plain": [
       "<seaborn.axisgrid.PairGrid at 0x17757a36b50>"
      ]
     },
     "execution_count": 87,
     "metadata": {},
     "output_type": "execute_result"
    },
    {
     "data": {
      "image/png": "[encoded data removed]",
      "text/plain": [
       "<Figure size 540x540 with 12 Axes>"
      ]
     },
     "metadata": {
      "needs_background": "light"
     },
     "output_type": "display_data"
    }
   ],
   "source": [
    "sns.pairplot(df)"
   ]
  },
  {
   "cell_type": "markdown",
   "id": "df69b0b6",
   "metadata": {},
   "source": [
    "If you observer the graph it seems intresting about scatter plot between two features 'Annual Income' and 'Spending Score'\n",
    "\n",
    "We can see two distinct concentrations of the points in Spending score and Age.\n",
    "\n",
    "Both scater plots of 'Annual Income' and 'Spending Score' are important"
   ]
  },
  {
   "cell_type": "code",
   "execution_count": 88,
   "id": "838d1054",
   "metadata": {},
   "outputs": [
    {
     "data": {
      "text/plain": [
       "<AxesSubplot:xlabel='Annual Income (k$)', ylabel='Spending Score (1-100)'>"
      ]
     },
     "execution_count": 88,
     "metadata": {},
     "output_type": "execute_result"
    },
    {
     "data": {
      "image/png": "[encoded data removed]",
      "text/plain": [
       "<Figure size 432x288 with 1 Axes>"
      ]
     },
     "metadata": {
      "needs_background": "light"
     },
     "output_type": "display_data"
    }
   ],
   "source": [
    "sns.scatterplot(x=df['Annual Income (k$)'],\n",
    "                y=df['Spending Score (1-100)'])"
   ]
  },
  {
   "cell_type": "markdown",
   "id": "ae4c292a",
   "metadata": {},
   "source": [
    "By looking closer, we can definitely distinguish 5 different groups of data. It seems our customers can be clustered based on how much they make in a year and how much they spend.\n"
   ]
  },
  {
   "cell_type": "markdown",
   "id": "2be93ddb",
   "metadata": {},
   "source": [
    "### Applying PCA for dimensionality eeduction"
   ]
  },
  {
   "cell_type": "markdown",
   "id": "2b0d44cf",
   "metadata": {},
   "source": [
    "Before applying PCA we need to delete the column 'AGE' as we have column 'Age Groups'."
   ]
  },
  {
   "cell_type": "code",
   "execution_count": 89,
   "id": "51f06a8a",
   "metadata": {},
   "outputs": [
    {
     "data": {
      "text/plain": [
       "(200, 12)"
      ]
     },
     "execution_count": 89,
     "metadata": {},
     "output_type": "execute_result"
    }
   ],
   "source": [
    "df_OH.shape"
   ]
  },
  {
   "cell_type": "code",
   "execution_count": 91,
   "id": "58bed102",
   "metadata": {},
   "outputs": [
    {
     "data": {
      "text/plain": [
       "Index(['CustomerID', 'Age', 'Annual Income (k$)', 'Spending Score (1-100)',\n",
       "       'Genre_Female', 'Genre_Male', 'Age Groups_(15, 20]',\n",
       "       'Age Groups_(20, 30]', 'Age Groups_(30, 40]', 'Age Groups_(40, 50]',\n",
       "       'Age Groups_(50, 60]', 'Age Groups_(60, 70]'],\n",
       "      dtype='object')"
      ]
     },
     "execution_count": 91,
     "metadata": {},
     "output_type": "execute_result"
    }
   ],
   "source": [
    "df_OH.columns"
   ]
  },
  {
   "cell_type": "code",
   "execution_count": 93,
   "id": "c2e53a9d",
   "metadata": {},
   "outputs": [
    {
     "data": {
      "text/plain": [
       "(200, 10)"
      ]
     },
     "execution_count": 93,
     "metadata": {},
     "output_type": "execute_result"
    }
   ],
   "source": [
    "df_OH=df_OH.drop(['CustomerID','Age'],axis=1)\n",
    "df_OH.shape"
   ]
  },
  {
   "cell_type": "code",
   "execution_count": 96,
   "id": "bb81c65a",
   "metadata": {},
   "outputs": [],
   "source": [
    "pca=PCA(n_components=10)\n",
    "pcs=pca.fit_transform(df_OH)"
   ]
  },
  {
   "cell_type": "code",
   "execution_count": 97,
   "id": "1a9b890f",
   "metadata": {},
   "outputs": [
    {
     "data": {
      "text/plain": [
       "<AxesSubplot:>"
      ]
     },
     "execution_count": 97,
     "metadata": {},
     "output_type": "execute_result"
    },
    {
     "data": {
      "image/png": "[encoded data removed]",
      "text/plain": [
       "<Figure size 432x288 with 1 Axes>"
      ]
     },
     "metadata": {
      "needs_background": "light"
     },
     "output_type": "display_data"
    }
   ],
   "source": [
    "pc1_values = pcs[:,0]\n",
    "pc2_values = pcs[:,1]\n",
    "sns.scatterplot(x=pc1_values, y=pc2_values)"
   ]
  },
  {
   "cell_type": "markdown",
   "id": "5a58e75b",
   "metadata": {},
   "source": [
    "The data plot after PCA is very similar to tje plot using only two columns of  the data without PCA."
   ]
  },
  {
   "cell_type": "markdown",
   "id": "eebaa469",
   "metadata": {},
   "source": [
    "### Visualizing Hierarchical Structure with Dendrograms"
   ]
  },
  {
   "cell_type": "code",
   "execution_count": 98,
   "id": "eefe9695",
   "metadata": {},
   "outputs": [],
   "source": [
    "import scipy.cluster.hierarchy as shc\n",
    "import matplotlib.pyplot as plt"
   ]
  },
  {
   "cell_type": "code",
   "execution_count": 110,
   "id": "7d13f2ad",
   "metadata": {},
   "outputs": [
    {
     "data": {
      "image/png": "[encoded data removed]",
      "text/plain": [
       "<Figure size 720x504 with 1 Axes>"
      ]
     },
     "metadata": {
      "needs_background": "light"
     },
     "output_type": "display_data"
    }
   ],
   "source": [
    "plt.figure(figsize=(10, 7))\n",
    "plt.title(\"Customers Dendrogram\")\n",
    "\n",
    "\n",
    "selected_data = df_OH.iloc[:, 0:2]\n",
    "clusters = shc.linkage(selected_data, \n",
    "            method='ward', \n",
    "            metric=\"euclidean\")\n",
    "shc.dendrogram(Z=clusters)\n",
    "plt.show()"
   ]
  },
  {
   "cell_type": "markdown",
   "id": "0481d045",
   "metadata": {},
   "source": [
    "Finding the intresting number of dendrogram is same as finding the largest horizantal space."
   ]
  },
  {
   "cell_type": "code",
   "execution_count": 111,
   "id": "073909f8",
   "metadata": {},
   "outputs": [
    {
     "data": {
      "text/plain": [
       "<matplotlib.lines.Line2D at 0x1775b19f8e0>"
      ]
     },
     "execution_count": 111,
     "metadata": {},
     "output_type": "execute_result"
    },
    {
     "data": {
      "image/png": "[encoded data removed]",
      "text/plain": [
       "<Figure size 720x504 with 1 Axes>"
      ]
     },
     "metadata": {
      "needs_background": "light"
     },
     "output_type": "display_data"
    }
   ],
   "source": [
    "plt.figure(figsize=(10, 7))\n",
    "plt.title(\"Customers Dendogram with line\")\n",
    "clusters = shc.linkage(selected_data, \n",
    "            method='ward', \n",
    "            metric=\"euclidean\")\n",
    "shc.dendrogram(clusters)\n",
    "plt.axhline(y = 125, color = 'r', linestyle = '-')"
   ]
  },
  {
   "cell_type": "markdown",
   "id": "92ffd996",
   "metadata": {},
   "source": [
    "### Implementing an Agglomerative Hierarchical Clustering"
   ]
  },
  {
   "cell_type": "code",
   "execution_count": 112,
   "id": "ba6dfe38",
   "metadata": {},
   "outputs": [
    {
     "data": {
      "text/plain": [
       "array([4, 3, 4, 3, 4, 3, 4, 3, 4, 3, 4, 3, 4, 3, 4, 3, 4, 3, 4, 3, 4, 3,\n",
       "       4, 3, 4, 3, 4, 3, 4, 3, 4, 3, 4, 3, 4, 3, 4, 3, 4, 3, 4, 3, 4, 1,\n",
       "       4, 1, 1, 1, 1, 1, 1, 1, 1, 1, 1, 1, 1, 1, 1, 1, 1, 1, 1, 1, 1, 1,\n",
       "       1, 1, 1, 1, 1, 1, 1, 1, 1, 1, 1, 1, 1, 1, 1, 1, 1, 1, 1, 1, 1, 1,\n",
       "       1, 1, 1, 1, 1, 1, 1, 1, 1, 1, 1, 1, 1, 1, 1, 1, 1, 1, 1, 1, 1, 1,\n",
       "       1, 1, 1, 1, 1, 1, 1, 1, 1, 1, 1, 1, 1, 2, 1, 2, 1, 2, 0, 2, 0, 2,\n",
       "       1, 2, 0, 2, 0, 2, 0, 2, 0, 2, 1, 2, 0, 2, 1, 2, 0, 2, 0, 2, 0, 2,\n",
       "       0, 2, 0, 2, 0, 2, 1, 2, 0, 2, 0, 2, 0, 2, 0, 2, 0, 2, 0, 2, 0, 2,\n",
       "       0, 2, 0, 2, 0, 2, 0, 2, 0, 2, 0, 2, 0, 2, 0, 2, 0, 2, 0, 2, 0, 2,\n",
       "       0, 2], dtype=int64)"
      ]
     },
     "execution_count": 112,
     "metadata": {},
     "output_type": "execute_result"
    }
   ],
   "source": [
    "from sklearn.cluster import AgglomerativeClustering\n",
    "\n",
    "clustering_model = AgglomerativeClustering(n_clusters=5, affinity='euclidean', linkage='ward')\n",
    "clustering_model.fit(selected_data)\n",
    "clustering_model.labels_"
   ]
  },
  {
   "cell_type": "code",
   "execution_count": 122,
   "id": "a88c6e52",
   "metadata": {},
   "outputs": [],
   "source": [
    "data_labels = clustering_model.labels_"
   ]
  },
  {
   "cell_type": "markdown",
   "id": "8654fac9",
   "metadata": {},
   "source": [
    "#### Fitting the data which is filtered by PCA "
   ]
  },
  {
   "cell_type": "code",
   "execution_count": 121,
   "id": "6d9d7389",
   "metadata": {},
   "outputs": [],
   "source": [
    "model_pca = AgglomerativeClustering(n_clusters=5, affinity='euclidean', linkage='ward')\n",
    "model_pca.fit(pcs)\n",
    "\n",
    "data_labels_pca = model_pca.labels_\n",
    "\n"
   ]
  },
  {
   "cell_type": "code",
   "execution_count": 130,
   "id": "ca73664d",
   "metadata": {},
   "outputs": [
    {
     "name": "stderr",
     "output_type": "stream",
     "text": [
      "C:\\Users\\Jeetr\\AppData\\Local\\Temp/ipykernel_10680/2382009407.py:17: UserWarning: Matplotlib is currently using module://matplotlib_inline.backend_inline, which is a non-GUI backend, so cannot show the figure.\n",
      "  fig.show()\n"
     ]
    },
    {
     "data": {
      "image/png": "[encoded data removed]",
      "text/plain": [
       "<Figure size 1080x360 with 2 Axes>"
      ]
     },
     "metadata": {
      "needs_background": "light"
     },
     "output_type": "display_data"
    }
   ],
   "source": [
    "fig, ax =plt.subplots(1,2,figsize=(15, 5))\n",
    "\n",
    "sns.scatterplot(x='Annual Income (k$)', \n",
    "                y='Spending Score (1-100)', \n",
    "                data=selected_data, \n",
    "                hue=data_labels,\n",
    "                palette='rainbow',\n",
    "                ax=ax[0]\n",
    "               ).set_title('Labeled Customer Data')\n",
    "\n",
    "sns.scatterplot(x=pc1_values, \n",
    "                y=pc2_values,\n",
    "                hue=data_labels_pca,\n",
    "                palette=\"rainbow\",\n",
    "               ax=ax[1]).set_title('Labeled Customer Data Reduced with PCA')\n",
    "\n",
    "fig.show()"
   ]
  },
  {
   "cell_type": "markdown",
   "id": "d8753efc",
   "metadata": {},
   "source": [
    "Here we have final clusterized data.\n",
    "\n",
    "Data points with label: 0(purple) belong to the customers with high salaries but low spending. These are the customers that spend their money carefully.\n",
    "\n",
    "Points with label: 2(green), are the customers with high salaries and high spending. These are the type of customers that companies target.\n",
    "\n",
    "The customers in the middle label: 1(blue) are the ones with average income and average spending. The highest numbers of customers belong to this category. Companies can also target these customers given the fact that they are in huge numbers.\n",
    "\n",
    "The customers in label: 4(red) are the customers that have low salaries and low spending, they might be attracted by offering promotions.\n",
    "\n",
    "The customers in label: 3(Orange) are the ones with high income and low spending, which are ideally targeted by marketing."
   ]
  },
  {
   "cell_type": "raw",
   "id": "2cbd4ab3",
   "metadata": {},
   "source": [
    "Observe that both results are very similar.\n",
    "The main difference is that the first result with the original data is much easier to explain.\n",
    "It is clear to see that customers can be divided into five groups by their annual income and spending score. While, in the PCA approach, we are taking all of our features into consideration, as much as we can look at the variance explained by each of them, this is a harder concept to grasp, especially when reporting to a Marketing department."
   ]
  },
  {
   "cell_type": "code",
   "execution_count": null,
   "id": "23ecd8e8",
   "metadata": {},
   "outputs": [],
   "source": []
  }
 ],
 "metadata": {
  "kernelspec": {
   "display_name": "Python 3 (ipykernel)",
   "language": "python",
   "name": "python3"
  },
  "language_info": {
   "codemirror_mode": {
    "name": "ipython",
    "version": 3
   },
   "file_extension": ".py",
   "mimetype": "text/x-python",
   "name": "python",
   "nbconvert_exporter": "python",
   "pygments_lexer": "ipython3",
   "version": "3.9.7"
  }
 },
 "nbformat": 4,
 "nbformat_minor": 5
}
